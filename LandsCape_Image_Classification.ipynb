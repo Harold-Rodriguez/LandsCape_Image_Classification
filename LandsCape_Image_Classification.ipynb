{
  "nbformat": 4,
  "nbformat_minor": 0,
  "metadata": {
    "colab": {
      "name": "LandsCape_Image_Classification.ipynb",
      "provenance": [],
      "authorship_tag": "ABX9TyOjecipEPMXSf0NVUq5cjhj",
      "include_colab_link": true
    },
    "kernelspec": {
      "name": "python3",
      "display_name": "Python 3"
    },
    "language_info": {
      "name": "python"
    }
  },
  "cells": [
    {
      "cell_type": "markdown",
      "metadata": {
        "id": "view-in-github",
        "colab_type": "text"
      },
      "source": [
        "<a href=\"https://colab.research.google.com/github/Harold-Rodriguez/LandsCape_Image_Classification/blob/main/LandsCape_Image_Classification.ipynb\" target=\"_parent\"><img src=\"https://colab.research.google.com/assets/colab-badge.svg\" alt=\"Open In Colab\"/></a>"
      ]
    },
    {
      "cell_type": "code",
      "execution_count": null,
      "metadata": {
        "id": "QgFfkgWqjeiL"
      },
      "outputs": [],
      "source": [
        ""
      ]
    }
  ]
}